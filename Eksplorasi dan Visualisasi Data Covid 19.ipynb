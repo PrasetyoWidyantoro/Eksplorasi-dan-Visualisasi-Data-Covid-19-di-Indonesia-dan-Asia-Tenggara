{
 "cells": [
  {
   "cell_type": "markdown",
   "metadata": {},
   "source": [
    "# Eksplorasi Data COVID19 di Dunia & ASEAN"
   ]
  },
  {
   "cell_type": "markdown",
   "metadata": {},
   "source": [
    "# Langkah yang dilakukan"
   ]
  },
  {
   "cell_type": "markdown",
   "metadata": {},
   "source": [
    "Pertama-tama, import terlebih dahulu library yang dibutuhkan secara berurutan, yaitu\n",
    "\n",
    "1. numpy, dan\n",
    "2. pandas"
   ]
  },
  {
   "cell_type": "code",
   "execution_count": 1,
   "metadata": {},
   "outputs": [],
   "source": [
    "#Import Library\n",
    "import numpy as np\n",
    "import pandas as pd"
   ]
  },
  {
   "cell_type": "markdown",
   "metadata": {},
   "source": [
    "# Membaca Data COVID-19 Dunia"
   ]
  },
  {
   "cell_type": "markdown",
   "metadata": {},
   "source": [
    "Gunakan method .read_json() pada library pandas yang sidah diimport tadi. Alamat url file yang akan diimport ini ada di: https://dqlab.id/data/covid19_worldwide_2020.json."
   ]
  },
  {
   "cell_type": "code",
   "execution_count": 3,
   "metadata": {},
   "outputs": [
    {
     "name": "stdout",
     "output_type": "stream",
     "text": [
      "Ukuran dataset: 61900 kolom dan 6 baris.\n",
      "\n",
      "Lima data teratas:\n",
      "         date  daily_confirmed_cases  daily_deaths  confirmed_cases  deaths  \\\n",
      "0 2020-03-20                      1             0                1       0   \n",
      "1 2020-03-21                      0             0                1       0   \n",
      "2 2020-03-22                      1             0                2       0   \n",
      "3 2020-03-23                      0             0                2       0   \n",
      "4 2020-03-24                      0             0                2       0   \n",
      "\n",
      "  geo_id  \n",
      "0     TD  \n",
      "1     TD  \n",
      "2     TD  \n",
      "3     TD  \n",
      "4     TD  \n",
      "\n",
      "Lima data terbawah:\n",
      "             date  daily_confirmed_cases  daily_deaths  confirmed_cases  \\\n",
      "61895 2020-02-24                     57             1              691   \n",
      "61896 2020-02-26                      0             1              691   \n",
      "61897 2020-03-10                     -9             1              696   \n",
      "61898 2020-02-20                     79             2              621   \n",
      "61899 2020-02-29                      0             2              705   \n",
      "\n",
      "       deaths    geo_id  \n",
      "61895       3  JPG11668  \n",
      "61896       4  JPG11668  \n",
      "61897       7  JPG11668  \n",
      "61898       2  JPG11668  \n",
      "61899       6  JPG11668  \n"
     ]
    }
   ],
   "source": [
    "import numpy as np\n",
    "import pandas as pd\n",
    "pd.set_option(\"display.max_columns\", None)\n",
    "\n",
    "#Link Import data\n",
    "covid_url = \"https://dqlab.id/data/covid19_worldwide_2020.json\"\n",
    "df_covid_worldwide = pd.read_json(covid_url)\n",
    "\n",
    "#Lihat data teratas dan terbawah\n",
    "print(\"Ukuran dataset: %d kolom dan %d baris.\\n\" % df_covid_worldwide.shape)\n",
    "print(\"Lima data teratas:\\n\",df_covid_worldwide.head())\n",
    "print(\"\\nLima data terbawah:\\n\", df_covid_worldwide.tail())"
   ]
  },
  {
   "cell_type": "markdown",
   "metadata": {},
   "source": [
    "# Reformat Data Frame COVID-19 Dunia"
   ]
  },
  {
   "cell_type": "markdown",
   "metadata": {},
   "source": [
    "1. Dari hasil sebelumnya terlihat bahwa data frame df_covid_worldwide memiliki kolom yang berhubungan dengan tanggal (kolom date). Cek terlebih dahulu tipe data seluruh kolom pada data frame df_covid_worldwide ini. Kamu dapat menggunakan .dtypes atau .info(). Untuk pengerjaan kasus ini akan digunakan method .info().\n",
    "\n",
    "2. Setelah tipe data di setiap kolomnya dicek dan kolom date juga sudah bertipe numpy.datetime64[ns] maka kolom ini dapat diset sebagai index untuk data frame df_covid_worldwide ini, menggunakan method .set_index. Setelah itu df_covid_worldwide diurutkan berdasarkan indeknya menggunakan .set_index, lakukan dengan menggunakan teknik chaining di pandas."
   ]
  },
  {
   "cell_type": "code",
   "execution_count": 4,
   "metadata": {},
   "outputs": [
    {
     "name": "stdout",
     "output_type": "stream",
     "text": [
      "Informasi data frame awal:\n",
      "<class 'pandas.core.frame.DataFrame'>\n",
      "Int64Index: 61900 entries, 0 to 61899\n",
      "Data columns (total 6 columns):\n",
      " #   Column                 Non-Null Count  Dtype         \n",
      "---  ------                 --------------  -----         \n",
      " 0   date                   61900 non-null  datetime64[ns]\n",
      " 1   daily_confirmed_cases  61900 non-null  int64         \n",
      " 2   daily_deaths           61900 non-null  int64         \n",
      " 3   confirmed_cases        61900 non-null  int64         \n",
      " 4   deaths                 61900 non-null  int64         \n",
      " 5   geo_id                 61625 non-null  object        \n",
      "dtypes: datetime64[ns](1), int64(4), object(1)\n",
      "memory usage: 3.3+ MB\n",
      "\n",
      "Informasi data frame setelah set index kolom date:\n",
      "<class 'pandas.core.frame.DataFrame'>\n",
      "DatetimeIndex: 61900 entries, 2019-12-31 to 2020-12-14\n",
      "Data columns (total 5 columns):\n",
      " #   Column                 Non-Null Count  Dtype \n",
      "---  ------                 --------------  ----- \n",
      " 0   daily_confirmed_cases  61900 non-null  int64 \n",
      " 1   daily_deaths           61900 non-null  int64 \n",
      " 2   confirmed_cases        61900 non-null  int64 \n",
      " 3   deaths                 61900 non-null  int64 \n",
      " 4   geo_id                 61625 non-null  object\n",
      "dtypes: int64(4), object(1)\n",
      "memory usage: 2.8+ MB\n"
     ]
    }
   ],
   "source": [
    "import numpy as np\n",
    "import pandas as pd\n",
    "pd.set_option(\"display.max_columns\", None)\n",
    "\n",
    "covid_url = \"https://dqlab.id/data/covid19_worldwide_2020.json\"\n",
    "df_covid_worldwide = pd.read_json(covid_url)\n",
    "\n",
    "print(\"Informasi data frame awal:\")\n",
    "df_covid_worldwide.info()\n",
    "\n",
    "df_covid_worldwide = df_covid_worldwide.set_index(\"date\").sort_index()\n",
    "\n",
    "print(\"\\nInformasi data frame setelah set index kolom date:\")\n",
    "df_covid_worldwide.info()"
   ]
  },
  {
   "cell_type": "markdown",
   "metadata": {},
   "source": [
    "# Missing Value di DataFrame COVID-19 Dunia"
   ]
  },
  {
   "cell_type": "markdown",
   "metadata": {},
   "source": [
    "Hasil sebelumnya dengan ada kolom dengan missing value, cobalah inspeksi seluruh kolom apakah ada yang memiliki missing value!"
   ]
  },
  {
   "cell_type": "code",
   "execution_count": 5,
   "metadata": {},
   "outputs": [
    {
     "name": "stdout",
     "output_type": "stream",
     "text": [
      "Jumlah missing value tiap kolom:\n",
      "daily_confirmed_cases      0\n",
      "daily_deaths               0\n",
      "confirmed_cases            0\n",
      "deaths                     0\n",
      "geo_id                   275\n",
      "dtype: int64\n",
      "\n",
      "Jumlah missing value tiap kolom setelah didrop:\n",
      "daily_confirmed_cases    0\n",
      "daily_deaths             0\n",
      "confirmed_cases          0\n",
      "deaths                   0\n",
      "geo_id                   0\n",
      "dtype: int64\n"
     ]
    }
   ],
   "source": [
    "import numpy as np\n",
    "import pandas as pd\n",
    "pd.set_option(\"display.max_columns\", None)\n",
    "\n",
    "covid_url = \"https://dqlab.id/data/covid19_worldwide_2020.json\"\n",
    "df_covid_worldwide = pd.read_json(covid_url)\n",
    "df_covid_worldwide = df_covid_worldwide.set_index(\"date\").sort_index()\n",
    "\n",
    "print(\"Jumlah missing value tiap kolom:\")\n",
    "print(df_covid_worldwide.isna().sum())\n",
    "\n",
    "df_covid_worldwide.dropna(inplace=True)\n",
    "\n",
    "print(\"\\nJumlah missing value tiap kolom setelah didrop:\")\n",
    "print(df_covid_worldwide.isna().sum())"
   ]
  },
  {
   "cell_type": "markdown",
   "metadata": {},
   "source": [
    "# Membaca Data Countries"
   ]
  },
  {
   "cell_type": "markdown",
   "metadata": {},
   "source": [
    "Bacalah dataset countries melalui alamat url https://dqlab.id/data/country_details.json yang ditempatkan ke variabel df_countries. Lalu inspeksilah dataset dengan mencetak lima data teratas dari dataframe countries (df_countries)."
   ]
  },
  {
   "cell_type": "code",
   "execution_count": 6,
   "metadata": {},
   "outputs": [
    {
     "name": "stdout",
     "output_type": "stream",
     "text": [
      "  geo_id country_name\n",
      "0     TD         Chad\n",
      "1     CU         Cuba\n",
      "2     FJ         Fiji\n",
      "3     GU         Guam\n",
      "4     IR         Iran\n"
     ]
    }
   ],
   "source": [
    "import numpy as np\n",
    "import pandas as pd\n",
    "pd.set_option(\"display.max_columns\", None)\n",
    "\n",
    "countries_url = \"https://dqlab.id/data/country_details.json \"\n",
    "df_countries = pd.read_json(countries_url)\n",
    "print(df_countries.head())"
   ]
  },
  {
   "cell_type": "markdown",
   "metadata": {},
   "source": [
    "# Merge Covid19 Data dan Countries"
   ]
  },
  {
   "cell_type": "markdown",
   "metadata": {},
   "source": [
    "Selanjutnya adalah mapping data covid19 dan data country. Gunakan fungsi .merge pada pandas untuk menggabungkan df_covid_worldwide dan df_countries. Untuk merge, gunakan kolom geo_id, (ingat ya df_covid_worldwide memiliki index pada kolom date untuk itu perlu .reset_index()). Setelah merge dapat diset kembali index ke kolom date."
   ]
  },
  {
   "cell_type": "code",
   "execution_count": 1,
   "metadata": {},
   "outputs": [
    {
     "name": "stdout",
     "output_type": "stream",
     "text": [
      "            daily_confirmed_cases  daily_deaths  confirmed_cases  deaths  \\\n",
      "date                                                                       \n",
      "2019-12-31                      0             0                0       0   \n",
      "2020-01-01                      0             0                0       0   \n",
      "2020-01-02                      0             0                0       0   \n",
      "2020-01-03                      0             0                0       0   \n",
      "2020-01-04                      0             0                0       0   \n",
      "\n",
      "           geo_id country_name  \n",
      "date                            \n",
      "2019-12-31     IN        India  \n",
      "2020-01-01     IN        India  \n",
      "2020-01-02     IN        India  \n",
      "2020-01-03     IN        India  \n",
      "2020-01-04     IN        India  \n"
     ]
    }
   ],
   "source": [
    "import numpy as np\n",
    "import pandas as pd\n",
    "pd.set_option(\"display.max_columns\", None)\n",
    "\n",
    "covid_url = \"https://dqlab.id/data/covid19_worldwide_2020.json\"\n",
    "df_covid_worldwide = pd.read_json(covid_url)\n",
    "df_covid_worldwide = df_covid_worldwide.set_index(\"date\").sort_index().dropna()\n",
    "\n",
    "df_covid_denormalized = pd.merge(df_covid_worldwide.reset_index(), df_countries, on=\"geo_id\").set_index(\"date\")\n",
    "print(df_covid_denormalized.head())"
   ]
  },
  {
   "cell_type": "markdown",
   "metadata": {},
   "source": [
    "# Menghitung Fatality Ratio"
   ]
  },
  {
   "cell_type": "markdown",
   "metadata": {},
   "source": [
    "Tambahkan satu kolom tambahan yaitu fatality_ratio, yang merupakan pembagian antara kolom deaths dan confirmed_cases."
   ]
  },
  {
   "cell_type": "code",
   "execution_count": 2,
   "metadata": {},
   "outputs": [
    {
     "name": "stdout",
     "output_type": "stream",
     "text": [
      "            daily_confirmed_cases  daily_deaths  confirmed_cases  deaths  \\\n",
      "date                                                                       \n",
      "2019-12-31                      0             0                0       0   \n",
      "2020-01-01                      0             0                0       0   \n",
      "2020-01-02                      0             0                0       0   \n",
      "2020-01-03                      0             0                0       0   \n",
      "2020-01-04                      0             0                0       0   \n",
      "\n",
      "           geo_id country_name  fatality_ratio  \n",
      "date                                            \n",
      "2019-12-31     IN        India             NaN  \n",
      "2020-01-01     IN        India             NaN  \n",
      "2020-01-02     IN        India             NaN  \n",
      "2020-01-03     IN        India             NaN  \n",
      "2020-01-04     IN        India             NaN  \n"
     ]
    }
   ],
   "source": [
    "import numpy as np\n",
    "import pandas as pd\n",
    "pd.set_option(\"display.max_columns\", None)\n",
    "\n",
    "covid_url = \"https://dqlab.id/data/covid19_worldwide_2020.json\"\n",
    "df_covid_worldwide = pd.read_json(covid_url)\n",
    "df_covid_worldwide = df_covid_worldwide.set_index(\"date\").sort_index().dropna()\n",
    "\n",
    "df_covid_denormalized = pd.merge(df_covid_worldwide.reset_index(), df_countries, on=\"geo_id\").set_index(\"date\")\n",
    "\n",
    "df_covid_denormalized[\"fatality_ratio\"] = df_covid_denormalized[\"deaths\"]/df_covid_denormalized[\"confirmed_cases\"]\n",
    "print(df_covid_denormalized.head())"
   ]
  },
  {
   "cell_type": "markdown",
   "metadata": {},
   "source": [
    "# Negara-negara dengan Fatality Ratio Tertinggi"
   ]
  },
  {
   "cell_type": "markdown",
   "metadata": {},
   "source": [
    "Ambil top 20 negara dengan value kolom fatality_ratio tertinggi dengan menggunakan fungsi sort_values."
   ]
  },
  {
   "cell_type": "code",
   "execution_count": 4,
   "metadata": {},
   "outputs": [
    {
     "name": "stdout",
     "output_type": "stream",
     "text": [
      "           geo_id country_name  fatality_ratio\n",
      "date                                          \n",
      "2020-03-15     SD        Sudan             1.0\n",
      "2020-02-20     IR         Iran             1.0\n",
      "2020-03-16     GT    Guatemala             1.0\n",
      "2020-03-13     GY       Guyana             1.0\n",
      "2020-03-18     SD        Sudan             1.0\n",
      "2020-03-17     SD        Sudan             1.0\n",
      "2020-03-16     SD        Sudan             1.0\n",
      "2020-02-03     PH  Philippines             0.5\n",
      "2020-02-05     PH  Philippines             0.5\n",
      "2020-02-04     PH  Philippines             0.5\n",
      "2020-03-28     NI    Nicaragua             0.5\n",
      "2020-02-02     PH  Philippines             0.5\n",
      "2020-03-24     ZW     Zimbabwe             0.5\n",
      "2020-03-24     GM       Gambia             0.5\n",
      "2020-03-19     SD        Sudan             0.5\n",
      "2020-03-20     SD        Sudan             0.5\n",
      "2020-03-21     SD        Sudan             0.5\n",
      "2020-03-22     SD        Sudan             0.5\n",
      "2020-03-23     SD        Sudan             0.5\n",
      "2020-03-24     SD        Sudan             0.5\n"
     ]
    }
   ],
   "source": [
    "import numpy as np\n",
    "import pandas as pd\n",
    "pd.set_option(\"display.max_columns\", None)\n",
    "\n",
    "covid_url = \"https://dqlab.id/data/covid19_worldwide_2020.json\"\n",
    "df_covid_worldwide = pd.read_json(covid_url)\n",
    "df_covid_worldwide = df_covid_worldwide.set_index(\"date\").sort_index().dropna()\n",
    "\n",
    "df_covid_denormalized = pd.merge(df_covid_worldwide.reset_index(), df_countries, on=\"geo_id\").set_index(\"date\")\n",
    "\n",
    "df_covid_denormalized[\"fatality_ratio\"] = df_covid_denormalized[\"deaths\"]/df_covid_denormalized[\"confirmed_cases\"]\n",
    "\n",
    "df_top_20_fatality_rate = df_covid_denormalized.sort_values(\"fatality_ratio\", ascending=False).head(20)\n",
    "print(df_top_20_fatality_rate[[\"geo_id\",\"country_name\",\"fatality_ratio\"]])"
   ]
  },
  {
   "cell_type": "markdown",
   "metadata": {},
   "source": [
    "# Kondisi Fatality ratio Tertinggi di Bulan Agustus 2020"
   ]
  },
  {
   "cell_type": "markdown",
   "metadata": {},
   "source": [
    "kita dapat mengakses fatality rate yang terjadi pada bulan Agustus saja dan kemudian 20 negara dengan fatality rate tertinggi akan diurutkan"
   ]
  },
  {
   "cell_type": "code",
   "execution_count": 5,
   "metadata": {},
   "outputs": [
    {
     "name": "stdout",
     "output_type": "stream",
     "text": [
      "country_name\n",
      "Yemen                     0.286473\n",
      "Italy                     0.138619\n",
      "France                    0.137979\n",
      "United_Kingdom            0.130228\n",
      "Belgium                   0.125079\n",
      "Hungary                   0.122820\n",
      "Netherlands               0.099309\n",
      "Mexico                    0.099092\n",
      "Jersey                    0.088677\n",
      "Spain                     0.079746\n",
      "Chad                      0.078870\n",
      "Montserrat                0.076923\n",
      "Canada                    0.073963\n",
      "Sweden                    0.071475\n",
      "Isle_of_Man               0.071429\n",
      "British_Virgin_Islands    0.066239\n",
      "Ireland                   0.065030\n",
      "Sudan                     0.064250\n",
      "Liberia                   0.063944\n",
      "Ecuador                   0.061031\n",
      "Name: fatality_ratio, dtype: float64\n"
     ]
    }
   ],
   "source": [
    "import numpy as np\n",
    "import pandas as pd\n",
    "pd.set_option(\"display.max_columns\", None)\n",
    "\n",
    "covid_url = \"https://dqlab.id/data/covid19_worldwide_2020.json\"\n",
    "df_covid_worldwide = pd.read_json(covid_url)\n",
    "df_covid_worldwide = df_covid_worldwide.set_index(\"date\").sort_index().dropna()\n",
    "\n",
    "countries_url = \"https://dqlab.id/data/country_details.json\"\n",
    "df_countries = pd.read_json(countries_url)\n",
    "\n",
    "df_covid_denormalized = pd.merge(df_covid_worldwide.reset_index(), df_countries, on=\"geo_id\").set_index(\"date\")\n",
    "\n",
    "df_covid_denormalized_august = df_covid_denormalized.loc[\"2020-08\"].groupby(\"country_name\").sum()\n",
    "\n",
    "df_covid_denormalized_august[\"fatality_ratio\"] = df_covid_denormalized_august[\"deaths\"]/df_covid_denormalized_august[\"confirmed_cases\"]\n",
    "\n",
    "df_top_20_fatality_rate_on_august = df_covid_denormalized_august.sort_values(by=\"fatality_ratio\", ascending=False).head(20)\n",
    "print(df_top_20_fatality_rate_on_august[\"fatality_ratio\"])"
   ]
  },
  {
   "cell_type": "markdown",
   "metadata": {},
   "source": [
    "# Visualisasi Negara dengan Fatality Ratio Tertinggi di Bulan Agustus 2020"
   ]
  },
  {
   "cell_type": "markdown",
   "metadata": {},
   "source": [
    "Untuk memvisualisasikan negara-negara dengan kasus fatality rate tertinggi akibat covid-19 ini dapat dilakukan dengan menggunakan bar chart, tepatnya horizontal bar chart"
   ]
  },
  {
   "cell_type": "code",
   "execution_count": 7,
   "metadata": {},
   "outputs": [
    {
     "data": {
      "image/png": "[encoded data removed]",
      "text/plain": [
       "<Figure size 576x576 with 1 Axes>"
      ]
     },
     "metadata": {
      "needs_background": "light"
     },
     "output_type": "display_data"
    }
   ],
   "source": [
    "import numpy as np\n",
    "import pandas as pd\n",
    "pd.set_option(\"display.max_columns\", None)\n",
    "\n",
    "covid_url = \"https://dqlab.id/data/covid19_worldwide_2020.json\"\n",
    "df_covid_worldwide = pd.read_json(covid_url)\n",
    "df_covid_worldwide = df_covid_worldwide.set_index(\"date\").sort_index().dropna()\n",
    "\n",
    "df_covid_denormalized = pd.merge(df_covid_worldwide.reset_index(), df_countries, on=\"geo_id\").set_index(\"date\")\n",
    "\n",
    "df_covid_denormalized_august = df_covid_denormalized.loc[\"2020-08\"].groupby(\"country_name\").sum()\n",
    "\n",
    "df_covid_denormalized_august[\"fatality_ratio\"] = df_covid_denormalized_august[\"deaths\"]/df_covid_denormalized_august[\"confirmed_cases\"]\n",
    "\n",
    "df_top_20_fatality_rate_on_august = df_covid_denormalized_august.sort_values(\"fatality_ratio\", ascending=False).head(20)\n",
    "\n",
    "# Visulisasi\n",
    "import matplotlib.pyplot as plt\n",
    "plt.figure(figsize=(8,8))\n",
    "df_top_20_fatality_rate_on_august[\"fatality_ratio\"].sort_values().plot (kind=\"barh\", color=\"coral\")\n",
    "plt.title(\"Top 20 Highest Fatality Rate Countries\", fontsize=18, color=\"black\")\n",
    "plt.xlabel(\"Fatality Rate\", fontsize=14)\n",
    "plt.ylabel(\"Country Name\", fontsize=14)\n",
    "plt.grid(axis=\"x\")\n",
    "plt.tight_layout()\n",
    "plt.show()\n"
   ]
  },
  {
   "cell_type": "markdown",
   "metadata": {},
   "source": [
    "# Data Frame Kasus COVID-19 ASEAN"
   ]
  },
  {
   "cell_type": "markdown",
   "metadata": {},
   "source": [
    "Selanjutnya adalah membandingkan kasus covid19 di Indonesia (ID) dengan negara-negara tetangga, yaitu:\n",
    "\n",
    "MY -> Malaysia,\n",
    "SG -> Singapore,\n",
    "TH -> Thailand,\n",
    "VN -> Vietnam."
   ]
  },
  {
   "cell_type": "code",
   "execution_count": 8,
   "metadata": {},
   "outputs": [
    {
     "name": "stdout",
     "output_type": "stream",
     "text": [
      "Cek nilai unik di kolom 'country_name': ['Malaysia' 'Vietnam' 'Thailand' 'Singapore' 'Indonesia']\n",
      "            daily_confirmed_cases  daily_deaths  confirmed_cases  deaths  \\\n",
      "date                                                                       \n",
      "2019-12-31                      0             0                0       0   \n",
      "2019-12-31                      0             0                0       0   \n",
      "2019-12-31                      0             0                0       0   \n",
      "2019-12-31                      0             0                0       0   \n",
      "2019-12-31                      0             0                0       0   \n",
      "\n",
      "           geo_id country_name  \n",
      "date                            \n",
      "2019-12-31     MY     Malaysia  \n",
      "2019-12-31     VN      Vietnam  \n",
      "2019-12-31     TH     Thailand  \n",
      "2019-12-31     SG    Singapore  \n",
      "2019-12-31     ID    Indonesia  \n"
     ]
    }
   ],
   "source": [
    "import numpy as np\n",
    "import pandas as pd\n",
    "pd.set_option(\"display.max_columns\", None)\n",
    "\n",
    "covid_url = \"https://dqlab.id/data/covid19_worldwide_2020.json\"\n",
    "df_covid_worldwide = pd.read_json(covid_url)\n",
    "df_covid_worldwide = df_covid_worldwide.set_index(\"date\").sort_index().dropna()\n",
    "\n",
    "df_covid_denormalized = pd.merge(df_covid_worldwide.reset_index(), df_countries, on=\"geo_id\").set_index(\"date\")\n",
    "\n",
    "asean_country_id = [\"ID\", \"MY\", \"SG\", \"TH\", \"VN\"]\n",
    "filter_list = [(df_covid_denormalized[\"geo_id\"]==country_id).to_numpy() for country_id in asean_country_id]\n",
    "filter_array = np.column_stack(filter_list).sum(axis=1, dtype=\"bool\")\n",
    "df_covid_denormalized_asean = df_covid_denormalized[filter_array].sort_index()\n",
    "\n",
    "print(\"Cek nilai unik di kolom 'country_name':\", df_covid_denormalized_asean[\"country_name\"].unique())\n",
    "print(df_covid_denormalized_asean.head())"
   ]
  },
  {
   "cell_type": "markdown",
   "metadata": {},
   "source": [
    "# Kapankah Kasus Pertama COVID-19 di ASEAN"
   ]
  },
  {
   "cell_type": "markdown",
   "metadata": {},
   "source": [
    "Sekarang kita akan cek kapankah kasus pertama COVID-19 di masing-masing lima negara ASEAN ini terjadi"
   ]
  },
  {
   "cell_type": "code",
   "execution_count": 9,
   "metadata": {},
   "outputs": [
    {
     "name": "stdout",
     "output_type": "stream",
     "text": [
      "The first case popped up in each of 5 ASEAN countries:\n",
      "            confirmed_cases geo_id country_name\n",
      "date                                           \n",
      "2020-01-24                2     VN      Vietnam\n"
     ]
    }
   ],
   "source": [
    "import numpy as np\n",
    "import pandas as pd\n",
    "pd.set_option(\"display.max_columns\", None)\n",
    "\n",
    "covid_url = \"https://dqlab.id/data/covid19_worldwide_2020.json\"\n",
    "df_covid_worldwide = pd.read_json(covid_url)\n",
    "df_covid_worldwide = df_covid_worldwide.set_index(\"date\").sort_index().dropna()\n",
    "\n",
    "df_covid_denormalized = pd.merge(df_covid_worldwide.reset_index(), df_countries, on=\"geo_id\").set_index(\"date\")\n",
    "\n",
    "asean_country_id = [\"ID\", \"MY\", \"SG\", \"TH\", \"VN\"]\n",
    "filter_list = [(df_covid_denormalized[\"geo_id\"]==country_id).to_numpy() for country_id in asean_country_id]\n",
    "filter_array = np.column_stack(filter_list).sum(axis=1, dtype=\"bool\")\n",
    "df_covid_denormalized_asean = df_covid_denormalized[filter_array].sort_index()\n",
    "\n",
    "print(\"The first case popped up in each of 5 ASEAN countries:\")\n",
    "for country_id in asean_country_id:\n",
    "\tasean_country = df_covid_denormalized_asean[df_covid_denormalized_asean[\"geo_id\"]==country_id]\n",
    "\tfirst_case = asean_country[asean_country[\"confirmed_cases\"]>0][[\"confirmed_cases\",\"geo_id\",\"country_name\"]]\n",
    "print(first_case.head(1))"
   ]
  },
  {
   "cell_type": "markdown",
   "metadata": {},
   "source": [
    "# Kasus Covid-19 di ASEAN mulai Bulan Maret 2020"
   ]
  },
  {
   "cell_type": "markdown",
   "metadata": {},
   "source": [
    "Filter kolom date dari data df_covid_denormalized_asean sehingga hanya data dari tanggal 1 Maret 2020 sampai tanggal terakhir di data frame yang diambil. \n",
    "\n",
    "Komparasikan index df_covid_denormalized_asean dengan tanggal yang dimaksud."
   ]
  },
  {
   "cell_type": "code",
   "execution_count": 10,
   "metadata": {},
   "outputs": [
    {
     "name": "stdout",
     "output_type": "stream",
     "text": [
      "            daily_confirmed_cases  daily_deaths  confirmed_cases  deaths  \\\n",
      "date                                                                       \n",
      "2020-03-01                      0             1               42       1   \n",
      "2020-03-01                      4             0              102       0   \n",
      "2020-03-01                      0             0               16       0   \n",
      "2020-03-01                      0             0                0       0   \n",
      "2020-03-01                      0             0               25       0   \n",
      "\n",
      "           geo_id country_name  \n",
      "date                            \n",
      "2020-03-01     TH     Thailand  \n",
      "2020-03-01     SG    Singapore  \n",
      "2020-03-01     VN      Vietnam  \n",
      "2020-03-01     ID    Indonesia  \n",
      "2020-03-01     MY     Malaysia  \n"
     ]
    }
   ],
   "source": [
    "import numpy as np\n",
    "import pandas as pd\n",
    "pd.set_option(\"display.max_columns\", None)\n",
    "\n",
    "covid_url = \"https://dqlab.id/data/covid19_worldwide_2020.json\"\n",
    "df_covid_worldwide = pd.read_json(covid_url)\n",
    "df_covid_worldwide = df_covid_worldwide.set_index(\"date\").sort_index().dropna()\n",
    "\n",
    "df_covid_denormalized = pd.merge(df_covid_worldwide.reset_index(), df_countries, on=\"geo_id\").set_index(\"date\")\n",
    "\n",
    "asean_country_id = [\"ID\", \"MY\", \"SG\", \"TH\", \"VN\"]\n",
    "filter_list = [(df_covid_denormalized[\"geo_id\"]==country_id).to_numpy() for country_id in asean_country_id]\n",
    "filter_array = np.column_stack(filter_list).sum(axis=1, dtype=\"bool\")\n",
    "df_covid_denormalized_asean = df_covid_denormalized[filter_array].sort_index()\n",
    "\n",
    "df_covid_denormalized_asean_march_onward = df_covid_denormalized_asean[df_covid_denormalized_asean.index>=\"2020-03-01\"]\n",
    "print(df_covid_denormalized_asean_march_onward.head())"
   ]
  },
  {
   "cell_type": "markdown",
   "metadata": {},
   "source": [
    "# Visualisasi Kasus COVID-19 di ASEAN"
   ]
  },
  {
   "cell_type": "markdown",
   "metadata": {},
   "source": [
    "Untuk visualisasi kali ini, kamu dapat menggunakan seaborn lineplot untuk menampilkan perbandingan kasus di lima negara ASEAN mulai per 1 Maret 2020."
   ]
  },
  {
   "cell_type": "code",
   "execution_count": 12,
   "metadata": {},
   "outputs": [
    {
     "data": {
      "image/png": "[encoded data removed]",
      "text/plain": [
       "<Figure size 1152x432 with 1 Axes>"
      ]
     },
     "metadata": {
      "needs_background": "light"
     },
     "output_type": "display_data"
    }
   ],
   "source": [
    "import numpy as np\n",
    "import pandas as pd\n",
    "pd.set_option(\"display.max_columns\", None)\n",
    "\n",
    "covid_url = \"https://dqlab.id/data/covid19_worldwide_2020.json\"\n",
    "df_covid_worldwide = pd.read_json(covid_url)\n",
    "df_covid_worldwide = df_covid_worldwide.set_index(\"date\").sort_index().dropna()\n",
    "\n",
    "df_covid_denormalized = pd.merge(df_covid_worldwide.reset_index(), df_countries, on=\"geo_id\").set_index(\"date\")\n",
    "\n",
    "asean_country_id = [\"ID\", \"MY\", \"SG\", \"TH\", \"VN\"]\n",
    "filter_list = [(df_covid_denormalized[\"geo_id\"]==country_id).to_numpy() for country_id in asean_country_id]\n",
    "filter_array = np.column_stack(filter_list).sum(axis=1, dtype=\"bool\")\n",
    "df_covid_denormalized_asean = df_covid_denormalized[filter_array].sort_index()\n",
    "\n",
    "df_covid_denormalized_asean_march_onward = df_covid_denormalized_asean[df_covid_denormalized_asean.index>=\"2020-03-01\"]\n",
    "\n",
    "import matplotlib.pyplot as plt\n",
    "import seaborn as sns\n",
    "plt.figure(figsize=(16,6))\n",
    "sns.lineplot(data=df_covid_denormalized_asean_march_onward, \n",
    "             x=df_covid_denormalized_asean_march_onward.index, \n",
    "             y=\"confirmed_cases\", \n",
    "             hue=\"country_name\",\n",
    "             linewidth=2)\n",
    "plt.xlabel('Record Date', fontsize=14)\n",
    "plt.ylabel('Total Cases', fontsize=14)\n",
    "plt.title('Komparasi Kasus Covid-19 di Asia Tenggara', color=\"b\", fontsize=18)\n",
    "plt.grid()\n",
    "plt.tight_layout()\n",
    "plt.show()"
   ]
  },
  {
   "cell_type": "code",
   "execution_count": null,
   "metadata": {},
   "outputs": [],
   "source": []
  }
 ],
 "metadata": {
  "kernelspec": {
   "display_name": "Python 3",
   "language": "python",
   "name": "python3"
  },
  "language_info": {
   "codemirror_mode": {
    "name": "ipython",
    "version": 3
   },
   "file_extension": ".py",
   "mimetype": "text/x-python",
   "name": "python",
   "nbconvert_exporter": "python",
   "pygments_lexer": "ipython3",
   "version": "3.8.5"
  }
 },
 "nbformat": 4,
 "nbformat_minor": 4
}
